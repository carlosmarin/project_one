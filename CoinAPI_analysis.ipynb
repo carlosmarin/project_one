{
 "cells": [
  {
   "cell_type": "code",
   "execution_count": 36,
   "metadata": {
    "collapsed": true
   },
   "outputs": [],
   "source": [
    "import requests as req\n",
    "import json\n",
    "import pandas as pd\n",
    "import datetime\n",
    "from matplotlib.finance import candlestick2_ohlc\n",
    "import matplotlib.pyplot as plt"
   ]
  },
  {
   "cell_type": "code",
   "execution_count": 37,
   "metadata": {
    "collapsed": true
   },
   "outputs": [],
   "source": [
    "# Using CoinAPI\n",
    "\n",
    "#url = 'https://rest.coinapi.io/v1/quotes/COINBASE_SPOT_BTC_USD/history?time_start=2016-01-01T00:00:00'\n",
    "#header = {'X-CoinAPI-Key':'A0D75BBF-50C6-4DE5-A0D0-7A9EB34386D4'}\n",
    "#resp = req.get(url,headers=header)\n",
    "#data = resp.json()"
   ]
  },
  {
   "cell_type": "code",
   "execution_count": 38,
   "metadata": {},
   "outputs": [],
   "source": [
    "# Using CryptoCompare\n",
    "base_url = 'https://min-api.cryptocompare.com/data/histoday?'\n",
    "\n",
    "# Number of points to graph\n",
    "num_points = 200\n",
    "\n",
    "# Number of days to average together (so here it averages over three days)\n",
    "aggregate = 3\n",
    "\n",
    "# Crypto code\n",
    "cc = 'BTC'\n",
    "url = '%sfsym=%s&tsym=USD&limit=%s&aggregate=%s&e=CCCAGG'%(base_url,cc,str(num_points),str(aggregate))\n",
    "resp = req.get(url)\n",
    "data = resp.json()"
   ]
  },
  {
   "cell_type": "code",
   "execution_count": 39,
   "metadata": {},
   "outputs": [
    {
     "data": {
      "text/plain": [
       "{'close': 670.38,\n",
       " 'high': 680.94,\n",
       " 'low': 655.72,\n",
       " 'open': 664.2,\n",
       " 'time': 1468627200,\n",
       " 'volumefrom': 109802.37,\n",
       " 'volumeto': 73983011.96}"
      ]
     },
     "execution_count": 39,
     "metadata": {},
     "output_type": "execute_result"
    }
   ],
   "source": [
    "data['Data'][0]"
   ]
  },
  {
   "cell_type": "code",
   "execution_count": 40,
   "metadata": {},
   "outputs": [
    {
     "data": {
      "text/html": [
       "<div>\n",
       "<style>\n",
       "    .dataframe thead tr:only-child th {\n",
       "        text-align: right;\n",
       "    }\n",
       "\n",
       "    .dataframe thead th {\n",
       "        text-align: left;\n",
       "    }\n",
       "\n",
       "    .dataframe tbody tr th {\n",
       "        vertical-align: top;\n",
       "    }\n",
       "</style>\n",
       "<table border=\"1\" class=\"dataframe\">\n",
       "  <thead>\n",
       "    <tr style=\"text-align: right;\">\n",
       "      <th></th>\n",
       "      <th>Date</th>\n",
       "      <th>High</th>\n",
       "      <th>Low</th>\n",
       "      <th>Open</th>\n",
       "      <th>Close</th>\n",
       "    </tr>\n",
       "  </thead>\n",
       "  <tbody>\n",
       "    <tr>\n",
       "      <th>0</th>\n",
       "      <td>2016-07-15</td>\n",
       "      <td>680.94</td>\n",
       "      <td>655.72</td>\n",
       "      <td>664.2</td>\n",
       "      <td>670.38</td>\n",
       "    </tr>\n",
       "    <tr>\n",
       "      <th>1</th>\n",
       "      <td>2016-07-18</td>\n",
       "      <td>673.24</td>\n",
       "      <td>657.82</td>\n",
       "      <td>670.38</td>\n",
       "      <td>664.62</td>\n",
       "    </tr>\n",
       "    <tr>\n",
       "      <th>2</th>\n",
       "      <td>2016-07-21</td>\n",
       "      <td>669.44</td>\n",
       "      <td>645.69</td>\n",
       "      <td>664.62</td>\n",
       "      <td>659.29</td>\n",
       "    </tr>\n",
       "    <tr>\n",
       "      <th>3</th>\n",
       "      <td>2016-07-24</td>\n",
       "      <td>662.51</td>\n",
       "      <td>643.49</td>\n",
       "      <td>659.29</td>\n",
       "      <td>654.54</td>\n",
       "    </tr>\n",
       "    <tr>\n",
       "      <th>4</th>\n",
       "      <td>2016-07-27</td>\n",
       "      <td>657.96</td>\n",
       "      <td>650.81</td>\n",
       "      <td>654.54</td>\n",
       "      <td>654.74</td>\n",
       "    </tr>\n",
       "  </tbody>\n",
       "</table>\n",
       "</div>"
      ],
      "text/plain": [
       "         Date    High     Low    Open   Close\n",
       "0  2016-07-15  680.94  655.72   664.2  670.38\n",
       "1  2016-07-18  673.24  657.82  670.38  664.62\n",
       "2  2016-07-21  669.44  645.69  664.62  659.29\n",
       "3  2016-07-24  662.51  643.49  659.29  654.54\n",
       "4  2016-07-27  657.96  650.81  654.54  654.74"
      ]
     },
     "execution_count": 40,
     "metadata": {},
     "output_type": "execute_result"
    }
   ],
   "source": [
    "data_df = pd.DataFrame(columns=['Date','High','Low','Open','Close'])\n",
    "for i in range(len(data['Data'])):\n",
    "    date = datetime.datetime.fromtimestamp(int(data['Data'][i]['time'])).strftime('%Y-%m-%d')\n",
    "    data_df.set_value(index=i,col='Date',value=date)\n",
    "    data_df.set_value(index=i,col='High',value=data['Data'][i]['high'])\n",
    "    data_df.set_value(index=i,col='Low',value=data['Data'][i]['low'])\n",
    "    data_df.set_value(index=i,col='Open',value=data['Data'][i]['open'])\n",
    "    data_df.set_value(index=i,col='Close',value=data['Data'][i]['close'])\n",
    "data_df.head()"
   ]
  },
  {
   "cell_type": "code",
   "execution_count": 41,
   "metadata": {},
   "outputs": [
    {
     "data": {
      "image/png": "[encoded data removed]",
      "text/plain": [
       "<matplotlib.figure.Figure at 0x220cd46d0f0>"
      ]
     },
     "metadata": {},
     "output_type": "display_data"
    }
   ],
   "source": [
    "fig, ax = plt.subplots()\n",
    "candlestick2_ohlc(ax,data_df['Open'],data_df['High'],data_df['Low'],data_df['Close'])\n",
    "plt.show()"
   ]
  },
  {
   "cell_type": "code",
   "execution_count": null,
   "metadata": {
    "collapsed": true
   },
   "outputs": [],
   "source": []
  }
 ],
 "metadata": {
  "kernelspec": {
   "display_name": "Python 3",
   "language": "python",
   "name": "python3"
  },
  "language_info": {
   "codemirror_mode": {
    "name": "ipython",
    "version": 3
   },
   "file_extension": ".py",
   "mimetype": "text/x-python",
   "name": "python",
   "nbconvert_exporter": "python",
   "pygments_lexer": "ipython3",
   "version": "3.6.3"
  }
 },
 "nbformat": 4,
 "nbformat_minor": 2
}
