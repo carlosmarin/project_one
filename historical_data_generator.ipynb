{
 "cells": [
  {
   "cell_type": "code",
   "execution_count": 1,
   "metadata": {
    "collapsed": true
   },
   "outputs": [],
   "source": [
    "import requests as req\n",
    "import json\n",
    "import pandas as pd\n",
    "import datetime"
   ]
  },
  {
   "cell_type": "markdown",
   "metadata": {},
   "source": [
    "# API Call"
   ]
  },
  {
   "cell_type": "code",
   "execution_count": 20,
   "metadata": {
    "collapsed": true
   },
   "outputs": [],
   "source": [
    "# Using CryptoCompare\n",
    "base_url = 'https://min-api.cryptocompare.com/data/histoday?'\n",
    "\n",
    "# Number of points to graph\n",
    "num_points = 200\n",
    "\n",
    "# Number of days to average together (so here it averages over three days)\n",
    "aggregate = 3\n",
    "\n",
    "# Crypto code\n",
    "cc = 'LTC'\n",
    "url = '%sfsym=%s&tsym=USD&limit=%s&aggregate=%s&e=CCCAGG'%(base_url,cc,str(num_points),str(aggregate))\n",
    "resp = req.get(url)\n",
    "data = resp.json()"
   ]
  },
  {
   "cell_type": "markdown",
   "metadata": {},
   "source": [
    "# DataFrame Generation"
   ]
  },
  {
   "cell_type": "code",
   "execution_count": 21,
   "metadata": {
    "scrolled": true
   },
   "outputs": [
    {
     "data": {
      "text/html": [
       "<div>\n",
       "<style>\n",
       "    .dataframe thead tr:only-child th {\n",
       "        text-align: right;\n",
       "    }\n",
       "\n",
       "    .dataframe thead th {\n",
       "        text-align: left;\n",
       "    }\n",
       "\n",
       "    .dataframe tbody tr th {\n",
       "        vertical-align: top;\n",
       "    }\n",
       "</style>\n",
       "<table border=\"1\" class=\"dataframe\">\n",
       "  <thead>\n",
       "    <tr style=\"text-align: right;\">\n",
       "      <th></th>\n",
       "      <th>Date</th>\n",
       "      <th>High</th>\n",
       "      <th>Low</th>\n",
       "      <th>Open</th>\n",
       "      <th>Close</th>\n",
       "    </tr>\n",
       "  </thead>\n",
       "  <tbody>\n",
       "    <tr>\n",
       "      <th>0</th>\n",
       "      <td>2016-07-15</td>\n",
       "      <td>4.23</td>\n",
       "      <td>4.08</td>\n",
       "      <td>4.13</td>\n",
       "      <td>4.13</td>\n",
       "    </tr>\n",
       "    <tr>\n",
       "      <th>1</th>\n",
       "      <td>2016-07-18</td>\n",
       "      <td>4.16</td>\n",
       "      <td>4.08</td>\n",
       "      <td>4.13</td>\n",
       "      <td>4.12</td>\n",
       "    </tr>\n",
       "    <tr>\n",
       "      <th>2</th>\n",
       "      <td>2016-07-21</td>\n",
       "      <td>4.12</td>\n",
       "      <td>3.95</td>\n",
       "      <td>4.12</td>\n",
       "      <td>4.05</td>\n",
       "    </tr>\n",
       "    <tr>\n",
       "      <th>3</th>\n",
       "      <td>2016-07-24</td>\n",
       "      <td>4.06</td>\n",
       "      <td>3.88</td>\n",
       "      <td>4.05</td>\n",
       "      <td>3.96</td>\n",
       "    </tr>\n",
       "    <tr>\n",
       "      <th>4</th>\n",
       "      <td>2016-07-27</td>\n",
       "      <td>4.12</td>\n",
       "      <td>3.93</td>\n",
       "      <td>3.96</td>\n",
       "      <td>4.07</td>\n",
       "    </tr>\n",
       "  </tbody>\n",
       "</table>\n",
       "</div>"
      ],
      "text/plain": [
       "         Date  High   Low  Open Close\n",
       "0  2016-07-15  4.23  4.08  4.13  4.13\n",
       "1  2016-07-18  4.16  4.08  4.13  4.12\n",
       "2  2016-07-21  4.12  3.95  4.12  4.05\n",
       "3  2016-07-24  4.06  3.88  4.05  3.96\n",
       "4  2016-07-27  4.12  3.93  3.96  4.07"
      ]
     },
     "execution_count": 21,
     "metadata": {},
     "output_type": "execute_result"
    }
   ],
   "source": [
    "data_df = pd.DataFrame(columns=['Date','High','Low','Open','Close'])\n",
    "for i in range(len(data['Data'])):\n",
    "    date = datetime.datetime.fromtimestamp(int(data['Data'][i]['time'])).strftime('%Y-%m-%d')\n",
    "    data_df.set_value(index=i,col='Date',value=date)\n",
    "    data_df.set_value(index=i,col='High',value=data['Data'][i]['high'])\n",
    "    data_df.set_value(index=i,col='Low',value=data['Data'][i]['low'])\n",
    "    data_df.set_value(index=i,col='Open',value=data['Data'][i]['open'])\n",
    "    data_df.set_value(index=i,col='Close',value=data['Data'][i]['close'])\n",
    "data_df.head()"
   ]
  },
  {
   "cell_type": "code",
   "execution_count": 22,
   "metadata": {},
   "outputs": [
    {
     "data": {
      "text/plain": [
       "'2018-03-07'"
      ]
     },
     "execution_count": 22,
     "metadata": {},
     "output_type": "execute_result"
    }
   ],
   "source": [
    "data_df['Date'][len(data_df['Date'])-1]"
   ]
  },
  {
   "cell_type": "code",
   "execution_count": 25,
   "metadata": {},
   "outputs": [],
   "source": [
    "data_df.to_csv('historical_data/%s_data_%s.csv'%(cc,data_df['Date'][len(data_df['Date'])-1]))"
   ]
  },
  {
   "cell_type": "code",
   "execution_count": null,
   "metadata": {
    "collapsed": true
   },
   "outputs": [],
   "source": []
  }
 ],
 "metadata": {
  "kernelspec": {
   "display_name": "Python 3",
   "language": "python",
   "name": "python3"
  },
  "language_info": {
   "codemirror_mode": {
    "name": "ipython",
    "version": 3
   },
   "file_extension": ".py",
   "mimetype": "text/x-python",
   "name": "python",
   "nbconvert_exporter": "python",
   "pygments_lexer": "ipython3",
   "version": "3.6.3"
  }
 },
 "nbformat": 4,
 "nbformat_minor": 2
}
